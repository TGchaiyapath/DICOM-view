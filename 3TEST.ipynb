{
 "cells": [
  {
   "cell_type": "code",
   "execution_count": 2,
   "metadata": {},
   "outputs": [
    {
     "name": "stdout",
     "output_type": "stream",
     "text": [
      "Blu is 10 years old\n",
      "Woo is 15 years old\n"
     ]
    }
   ],
   "source": [
    "#Python Class and Object\n",
    "class Parrot:\n",
    "\n",
    "    # class attribute\n",
    "    name = \"\"\n",
    "    age = 0\n",
    "\n",
    "# create parrot1 object \n",
    "parrot1 = Parrot()\n",
    "parrot1.name = \"Blu\"\n",
    "parrot1.age = 10\n",
    "\n",
    "# create another object parrot2\n",
    "parrot2 = Parrot()\n",
    "parrot2.name = \"Woo\"\n",
    "parrot2.age = 15\n",
    "\n",
    "# access attributes\n",
    "print(f\"{parrot1.name} is {parrot1.age} years old\")\n",
    "print(f\"{parrot2.name} is {parrot2.age} years old\")"
   ]
  },
  {
   "cell_type": "code",
   "execution_count": 2,
   "metadata": {},
   "outputs": [],
   "source": [
    "# ... (previous code)\n",
    "\n",
    "class DICOMViewer:\n",
    "    # ... (previous methods)\n",
    "\n",
    "    def create_image_window(self):\n",
    "        # Create a new window to display the DICOM image with navigation and pan buttons\n",
    "        image_window = tk.Toplevel(self.master)\n",
    "        image_window.title(\"DICOM Image Viewer\")\n",
    "\n",
    "        # Matplotlib figure for displaying the image in the new window\n",
    "        fig, ax = plt.subplots(figsize=(6, 6))\n",
    "        canvas = FigureCanvasTkAgg(fig, master=image_window)\n",
    "        canvas_widget = canvas.get_tk_widget()\n",
    "        canvas_widget.pack()\n",
    "\n",
    "        # Load the DICOM image in the new window\n",
    "        self.load_dicom_image_internal(ax, canvas)\n",
    "\n",
    "        # Navigation buttons in the new window\n",
    "        next_button = tk.Button(image_window, text=\"Next\", command=lambda: self.show_next(ax, canvas))\n",
    "        next_button.pack(side=tk.LEFT, padx=5)\n",
    "        prev_button = tk.Button(image_window, text=\"Previous\", command=lambda: self.show_previous(ax, canvas))\n",
    "        prev_button.pack(side=tk.LEFT, padx=5)\n",
    "\n",
    "        # Zoom in and Zoom out buttons in the new window\n",
    "        zoom_in_button = tk.Button(image_window, text=\"Zoom In\", command=lambda: self.zoom_in(ax, canvas))\n",
    "        zoom_in_button.pack(side=tk.LEFT, padx=5)\n",
    "        zoom_out_button = tk.Button(image_window, text=\"Zoom Out\", command=lambda: self.zoom_out(ax, canvas))\n",
    "        zoom_out_button.pack(side=tk.LEFT, padx=5)\n",
    "\n",
    "        # Add Matplotlib's pan functionality\n",
    "        pan_button = tk.Button(image_window, text=\"Pan (Mouse)\", command=lambda: self.enable_pan(fig))\n",
    "        pan_button.pack(side=tk.LEFT, padx=5)\n",
    "\n",
    "    def enable_pan(self, fig):\n",
    "        fig.canvas.mpl_connect('pan_event', self.on_pan)\n",
    "\n",
    "    def on_pan(self, event):\n",
    "        # Handle pan events\n",
    "        print(f'Panning to x={event.xdata}, y={event.ydata}')\n",
    "\n",
    "# ... (rest of the code)\n"
   ]
  }
 ],
 "metadata": {
  "kernelspec": {
   "display_name": "Python 3",
   "language": "python",
   "name": "python3"
  },
  "language_info": {
   "codemirror_mode": {
    "name": "ipython",
    "version": 3
   },
   "file_extension": ".py",
   "mimetype": "text/x-python",
   "name": "python",
   "nbconvert_exporter": "python",
   "pygments_lexer": "ipython3",
   "version": "3.12.0"
  }
 },
 "nbformat": 4,
 "nbformat_minor": 2
}
